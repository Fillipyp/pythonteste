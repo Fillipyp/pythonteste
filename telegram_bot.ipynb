{
 "cells": [
  {
   "cell_type": "code",
   "execution_count": 1,
   "metadata": {},
   "outputs": [],
   "source": [
    "from telegram import Update\n",
    "from telegram.ext import Updater, CommandHandler, MessageHandler, Filters, CallbackContext\n",
    "from telegram import Bot\n",
    "\n",
    "# Definindo a função que irá \"ecoar\" a mensagem do usuário\n",
    "\n",
    "\n"
   ]
  },
  {
   "cell_type": "code",
   "execution_count": 2,
   "metadata": {},
   "outputs": [],
   "source": [
    "bot = Bot(token=\"6328783173:AAFczJqa0r2wAdVnzQyW23osEbN_6msqIbA\")\n",
    "\n",
    "def echo(update, context):\n",
    "    update.message.reply_text(update.message.text)\n",
    "    #update.message.reply_text(\"FUNCIONOU\")\n",
    "\n",
    "\n"
   ]
  },
  {
   "cell_type": "code",
   "execution_count": 3,
   "metadata": {},
   "outputs": [
    {
     "ename": "InvalidToken",
     "evalue": "Invalid token",
     "output_type": "error",
     "traceback": [
      "\u001b[1;31m---------------------------------------------------------------------------\u001b[0m",
      "\u001b[1;31mInvalidToken\u001b[0m                              Traceback (most recent call last)",
      "Cell \u001b[1;32mIn[3], line 18\u001b[0m\n\u001b[0;32m     15\u001b[0m     updater\u001b[39m.\u001b[39midle()\n\u001b[0;32m     17\u001b[0m \u001b[39mif\u001b[39;00m \u001b[39m__name__\u001b[39m \u001b[39m==\u001b[39m \u001b[39m'\u001b[39m\u001b[39m__main__\u001b[39m\u001b[39m'\u001b[39m:\n\u001b[1;32m---> 18\u001b[0m     main()\n",
      "Cell \u001b[1;32mIn[3], line 3\u001b[0m, in \u001b[0;36mmain\u001b[1;34m()\u001b[0m\n\u001b[0;32m      1\u001b[0m \u001b[39mdef\u001b[39;00m \u001b[39mmain\u001b[39m():\n\u001b[0;32m      2\u001b[0m     \u001b[39m# Cria um objeto 'updater'. Você terá que substituir \"TOKEN\" pelo token do seu bot.\u001b[39;00m\n\u001b[1;32m----> 3\u001b[0m     updater \u001b[39m=\u001b[39m Updater(\u001b[39m\"\u001b[39m\u001b[39m***\u001b[39m\u001b[39m\"\u001b[39m, use_context\u001b[39m=\u001b[39m\u001b[39mTrue\u001b[39;00m)\n\u001b[0;32m      5\u001b[0m     \u001b[39m# Obtém o despachante para registrar manipuladores\u001b[39;00m\n\u001b[0;32m      6\u001b[0m     dp \u001b[39m=\u001b[39m updater\u001b[39m.\u001b[39mdispatcher\n",
      "File \u001b[1;32mc:\\Users\\FillipyMonteiro\\anaconda3\\Lib\\site-packages\\telegram\\ext\\updater.py:159\u001b[0m, in \u001b[0;36mUpdater.__init__\u001b[1;34m(self, token, base_url, workers, bot, private_key, private_key_password, user_sig_handler, request_kwargs, persistence, defaults, use_context, dispatcher, base_file_url)\u001b[0m\n\u001b[0;32m    157\u001b[0m         request_kwargs[\u001b[39m'\u001b[39m\u001b[39mcon_pool_size\u001b[39m\u001b[39m'\u001b[39m] \u001b[39m=\u001b[39m con_pool_size\n\u001b[0;32m    158\u001b[0m     \u001b[39mself\u001b[39m\u001b[39m.\u001b[39m_request \u001b[39m=\u001b[39m Request(\u001b[39m*\u001b[39m\u001b[39m*\u001b[39mrequest_kwargs)\n\u001b[1;32m--> 159\u001b[0m     \u001b[39mself\u001b[39m\u001b[39m.\u001b[39mbot \u001b[39m=\u001b[39m Bot(token,\n\u001b[0;32m    160\u001b[0m                    base_url,\n\u001b[0;32m    161\u001b[0m                    base_file_url\u001b[39m=\u001b[39mbase_file_url,\n\u001b[0;32m    162\u001b[0m                    request\u001b[39m=\u001b[39m\u001b[39mself\u001b[39m\u001b[39m.\u001b[39m_request,\n\u001b[0;32m    163\u001b[0m                    private_key\u001b[39m=\u001b[39mprivate_key,\n\u001b[0;32m    164\u001b[0m                    private_key_password\u001b[39m=\u001b[39mprivate_key_password,\n\u001b[0;32m    165\u001b[0m                    defaults\u001b[39m=\u001b[39mdefaults)\n\u001b[0;32m    166\u001b[0m \u001b[39mself\u001b[39m\u001b[39m.\u001b[39mupdate_queue \u001b[39m=\u001b[39m Queue()\n\u001b[0;32m    167\u001b[0m \u001b[39mself\u001b[39m\u001b[39m.\u001b[39mjob_queue \u001b[39m=\u001b[39m JobQueue()\n",
      "File \u001b[1;32mc:\\Users\\FillipyMonteiro\\anaconda3\\Lib\\site-packages\\telegram\\bot.py:130\u001b[0m, in \u001b[0;36mBot.__init__\u001b[1;34m(self, token, base_url, base_file_url, request, private_key, private_key_password, defaults)\u001b[0m\n\u001b[0;32m    122\u001b[0m \u001b[39mdef\u001b[39;00m \u001b[39m__init__\u001b[39m(\u001b[39mself\u001b[39m,\n\u001b[0;32m    123\u001b[0m              token,\n\u001b[0;32m    124\u001b[0m              base_url\u001b[39m=\u001b[39m\u001b[39mNone\u001b[39;00m,\n\u001b[1;32m   (...)\u001b[0m\n\u001b[0;32m    128\u001b[0m              private_key_password\u001b[39m=\u001b[39m\u001b[39mNone\u001b[39;00m,\n\u001b[0;32m    129\u001b[0m              defaults\u001b[39m=\u001b[39m\u001b[39mNone\u001b[39;00m):\n\u001b[1;32m--> 130\u001b[0m     \u001b[39mself\u001b[39m\u001b[39m.\u001b[39mtoken \u001b[39m=\u001b[39m \u001b[39mself\u001b[39m\u001b[39m.\u001b[39m_validate_token(token)\n\u001b[0;32m    132\u001b[0m     \u001b[39m# Gather default\u001b[39;00m\n\u001b[0;32m    133\u001b[0m     \u001b[39mself\u001b[39m\u001b[39m.\u001b[39mdefaults \u001b[39m=\u001b[39m defaults\n",
      "File \u001b[1;32mc:\\Users\\FillipyMonteiro\\anaconda3\\Lib\\site-packages\\telegram\\bot.py:197\u001b[0m, in \u001b[0;36mBot._validate_token\u001b[1;34m(token)\u001b[0m\n\u001b[0;32m    195\u001b[0m left, sep, _right \u001b[39m=\u001b[39m token\u001b[39m.\u001b[39mpartition(\u001b[39m'\u001b[39m\u001b[39m:\u001b[39m\u001b[39m'\u001b[39m)\n\u001b[0;32m    196\u001b[0m \u001b[39mif\u001b[39;00m (\u001b[39mnot\u001b[39;00m sep) \u001b[39mor\u001b[39;00m (\u001b[39mnot\u001b[39;00m left\u001b[39m.\u001b[39misdigit()) \u001b[39mor\u001b[39;00m (\u001b[39mlen\u001b[39m(left) \u001b[39m<\u001b[39m \u001b[39m3\u001b[39m):\n\u001b[1;32m--> 197\u001b[0m     \u001b[39mraise\u001b[39;00m InvalidToken()\n\u001b[0;32m    199\u001b[0m \u001b[39mreturn\u001b[39;00m token\n",
      "\u001b[1;31mInvalidToken\u001b[0m: Invalid token"
     ]
    }
   ],
   "source": [
    "def main():\n",
    "    # Cria um objeto 'updater'. Você terá que substituir \"TOKEN\" pelo token do seu bot.\n",
    "    updater = Updater(\"6328783173:AAFczJqa0r2wAdVnzQyW23osEbN_6msqIbA\", use_context=True)\n",
    "\n",
    "    # Obtém o despachante para registrar manipuladores\n",
    "    dp = updater.dispatcher\n",
    "\n",
    "    # Em todas as mensagens de texto não-comando, chama a função 'echo'\n",
    "    dp.add_handler(MessageHandler(Filters.text & ~Filters.command, echo))\n",
    "\n",
    "    # Inicia o Bot\n",
    "    updater.start_polling()\n",
    "\n",
    "    # Executa o bot até receber um comando de parada\n",
    "    updater.idle()\n",
    "\n",
    "if __name__ == '__main__':\n",
    "    main()"
   ]
  }
 ],
 "metadata": {
  "kernelspec": {
   "display_name": "base",
   "language": "python",
   "name": "python3"
  },
  "language_info": {
   "codemirror_mode": {
    "name": "ipython",
    "version": 3
   },
   "file_extension": ".py",
   "mimetype": "text/x-python",
   "name": "python",
   "nbconvert_exporter": "python",
   "pygments_lexer": "ipython3",
   "version": "3.11.3"
  },
  "orig_nbformat": 4
 },
 "nbformat": 4,
 "nbformat_minor": 2
}
