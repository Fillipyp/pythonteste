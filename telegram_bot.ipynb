{
 "cells": [
  {
   "cell_type": "code",
   "execution_count": 1,
   "metadata": {},
   "outputs": [],
   "source": [
    "from telegram import Update\n",
    "from telegram.ext import Updater, CommandHandler, MessageHandler, Filters, CallbackContext\n",
    "from telegram import Bot\n",
    "\n",
    "# Definindo a função que irá \"ecoar\" a mensagem do usuário\n",
    "\n",
    "\n"
   ]
  },
  {
   "cell_type": "code",
   "execution_count": 2,
   "metadata": {},
   "outputs": [],
   "source": [
    "bot = Bot(token=\"mytoken\")\n",
    "\n",
    "def echo(update, context):\n",
    "    update.message.reply_text(update.message.text)\n",
    "    #update.message.reply_text(\"FUNCIONOU\")\n",
    "\n",
    "\n"
   ]
  },
  {
   "cell_type": "code",
   "execution_count": 3,
   "metadata": {},
   "outputs": [],
   "source": [
    "def main():\n",
    "    # Cria um objeto 'updater'. Você terá que substituir \"TOKEN\" pelo token do seu bot.\n",
    "    updater = Updater(\"mytoken\", use_context=True)\n",
    "\n",
    "    # Obtém o despachante para registrar manipuladores\n",
    "    dp = updater.dispatcher\n",
    "\n",
    "    # Em todas as mensagens de texto não-comando, chama a função 'echo'\n",
    "    dp.add_handler(MessageHandler(Filters.text & ~Filters.command, echo))\n",
    "\n",
    "    # Inicia o Bot\n",
    "    updater.start_polling()\n",
    "\n",
    "    # Executa o bot até receber um comando de parada\n",
    "    updater.idle()\n",
    "\n",
    "if __name__ == '__main__':\n",
    "    main()"
   ]
  }
 ],
 "metadata": {
  "kernelspec": {
   "display_name": "base",
   "language": "python",
   "name": "python3"
  },
  "language_info": {
   "codemirror_mode": {
    "name": "ipython",
    "version": 3
   },
   "file_extension": ".py",
   "mimetype": "text/x-python",
   "name": "python",
   "nbconvert_exporter": "python",
   "pygments_lexer": "ipython3",
   "version": "3.11.3"
  },
  "orig_nbformat": 4
 },
 "nbformat": 4,
 "nbformat_minor": 2
}
