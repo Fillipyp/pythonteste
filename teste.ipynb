{
 "cells": [
  {
   "cell_type": "code",
   "execution_count": 1,
   "metadata": {},
   "outputs": [],
   "source": [
    "import pandas as pd\n",
    "import os\n",
    "import getpass\n",
    "import glob\n"
   ]
  },
  {
   "cell_type": "code",
   "execution_count": 2,
   "metadata": {},
   "outputs": [],
   "source": [
    "#Pegar o usuario, localizar as tabelas e limpar as colunas\n",
    "User = getpass.getuser()\n",
    "tabela = pd.read_excel(f'C:/Users/{User}/Documents/tabela.xlsx')\n",
    "controle = pd.read_excel(f'C:/Users/{User}/Documents/controle.xlsx')\n",
    "\n",
    "controle = controle[controle.filter(regex='^(?!Unnamed)').columns]\n",
    "\n",
    "# controle = controle.fillna('')\n",
    "\n"
   ]
  },
  {
   "cell_type": "code",
   "execution_count": 3,
   "metadata": {},
   "outputs": [
    {
     "name": "stdout",
     "output_type": "stream",
     "text": [
      "             Nome  Idade\n",
      "0  Rio de Janeiro    150\n",
      "1       São Paulo    150\n",
      "2  Espirito Santo    150\n",
      "3           Bahia    150\n",
      "4          Parana    500\n",
      "5     Mato Grosso   1000\n"
     ]
    }
   ],
   "source": [
    "#Mesclar as tabelas jogando os dados da tabela aleatoria dentro do controle\n",
    "merge_dataframe = pd.merge(controle, tabela,\n",
    "                           on=['Nome', 'Idade'], how='outer')\n",
    "\n",
    "                    \n",
    "print(merge_dataframe)                   "
   ]
  },
  {
   "cell_type": "code",
   "execution_count": 4,
   "metadata": {},
   "outputs": [],
   "source": [
    "# merge_dataframe.to_excel(f'C:/Users/{User}/Documents/controle.xlsx')"
   ]
  }
 ],
 "metadata": {
  "kernelspec": {
   "display_name": "base",
   "language": "python",
   "name": "python3"
  },
  "language_info": {
   "codemirror_mode": {
    "name": "ipython",
    "version": 3
   },
   "file_extension": ".py",
   "mimetype": "text/x-python",
   "name": "python",
   "nbconvert_exporter": "python",
   "pygments_lexer": "ipython3",
   "version": "3.11.3"
  },
  "orig_nbformat": 4
 },
 "nbformat": 4,
 "nbformat_minor": 2
}
