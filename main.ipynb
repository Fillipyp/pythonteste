{
 "cells": [
  {
   "cell_type": "code",
   "execution_count": null,
   "metadata": {},
   "outputs": [],
   "source": [
    "import pandas as pd\n",
    "\n",
    "import urllib\n",
    "from sqlalchemy import create_engine\n",
    "import os\n"
   ]
  },
  {
   "cell_type": "code",
   "execution_count": null,
   "metadata": {},
   "outputs": [],
   "source": [
    "\n",
    "# Configurações do banco de dado\n",
    "db_host = os.getenv('DB_HOST')\n",
    "db_port = os.getenv('DB_PORT')\n",
    "db_name = os.getenv('DB_NAME')\n",
    "db_user = os.getenv('DB_USER')\n",
    "db_pass = os.getenv('DB_PASS')\n"
   ]
  },
  {
   "cell_type": "code",
   "execution_count": null,
   "metadata": {},
   "outputs": [],
   "source": [
    "# Função para criar a engine do SQLAlchemy\n",
    "def create_db_engine(db_host, db_port, db_name, db_user, db_pass):\n",
    "    connection_string = f\"Driver={{ODBC Driver 17 for SQL Server}};\" \\\n",
    "                        f\"Server={db_host},{db_port};\" \\\n",
    "                        f\"Database={db_name};\" \\\n",
    "                        f\"UID={db_user};\" \\\n",
    "                        f\"PWD={db_pass};\"\n",
    "    quoted = urllib.parse.quote_plus(connection_string)\n",
    "    engine = create_engine(f\"mssql+pyodbc:///?odbc_connect={quoted}\", fast_executemany=True)\n",
    "    return engine\n",
    "\n",
    "\n",
    "# Criar engine do SQLAlchemy para o banco de dados\n",
    "engine = create_db_engine(db_host, db_port, db_name, db_user, db_pass)\n",
    "\n",
    "# Atualizar valores na tabela\n",
    "# with engine.begin() as connection:\n",
    "#     update_stmt = \"UPDATE dbo.ClientesTeste SET Subgrupo = 'GrupoZ' WHERE Subgrupo = 'GrupoA'\"\n",
    "#     connection.execute(update_stmt)\n",
    "\n",
    "with engine.begin() as connection:\n",
    "    insert_stmt = \"INSERT INTO dbo.ClientesTeste (Cliente, Subgrupo) VALUES ('Cliente17', 'GrupoP')\"\n",
    "    connection.execute(insert_stmt)\n",
    "\n",
    "# Deletar registro especifico na tabela\n",
    "# with engine.begin() as connection:\n",
    "#     delete_stmt = \"DELETE dbo.ClientesTeste WHERE Subgrupo = 'GrupoP' \"\n",
    "#     connection.execute(delete_stmt)    \n",
    "\n",
    "\n",
    "# Seleciona valores na tabela    \n",
    "df = pd.read_sql(\"\"\"SELECT *\n",
    "                    FROM dbo.ClientesTeste;\"\"\", con = engine)\n",
    "\n",
    "print(df)\n"
   ]
  }
 ],
 "metadata": {
  "kernelspec": {
   "display_name": "base",
   "language": "python",
   "name": "python3"
  },
  "language_info": {
   "codemirror_mode": {
    "name": "ipython",
    "version": 3
   },
   "file_extension": ".py",
   "mimetype": "text/x-python",
   "name": "python",
   "nbconvert_exporter": "python",
   "pygments_lexer": "ipython3",
   "version": "3.11.3"
  },
  "orig_nbformat": 4
 },
 "nbformat": 4,
 "nbformat_minor": 2
}
